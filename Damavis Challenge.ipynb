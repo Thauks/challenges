{
 "cells": [
  {
   "cell_type": "markdown",
   "metadata": {},
   "source": [
    "Jordi Mestres Esteve"
   ]
  },
  {
   "cell_type": "markdown",
   "metadata": {},
   "source": [
    "# Damavis Challenge"
   ]
  },
  {
   "cell_type": "code",
   "execution_count": 1,
   "metadata": {},
   "outputs": [],
   "source": [
    "# import of all the dependencies for the whole notebook\n",
    "import pandas as pd\n",
    "import numpy as np\n",
    "import matplotlib.pyplot as plt\n",
    "import seaborn as sns\n",
    "from sklearn.impute import KNNImputer\n",
    "from sklearn.preprocessing import StandardScaler, MinMaxScaler\n",
    "from sklearn import linear_model\n",
    "from catboost import CatBoostRegressor"
   ]
  },
  {
   "cell_type": "markdown",
   "metadata": {},
   "source": [
    "## 1. Statistical Analysis"
   ]
  },
  {
   "cell_type": "markdown",
   "metadata": {},
   "source": [
    "### 1.1 Exploratory analysis"
   ]
  },
  {
   "cell_type": "markdown",
   "metadata": {},
   "source": [
    "After importing the data, the first what should be done is to explore the data and realize clearly what does each field mean and extract some basic information from the dataset like the missing values and other statistical measures."
   ]
  },
  {
   "cell_type": "code",
   "execution_count": 2,
   "metadata": {},
   "outputs": [
    {
     "data": {
      "text/html": [
       "<div>\n",
       "<style scoped>\n",
       "    .dataframe tbody tr th:only-of-type {\n",
       "        vertical-align: middle;\n",
       "    }\n",
       "\n",
       "    .dataframe tbody tr th {\n",
       "        vertical-align: top;\n",
       "    }\n",
       "\n",
       "    .dataframe thead th {\n",
       "        text-align: right;\n",
       "    }\n",
       "</style>\n",
       "<table border=\"1\" class=\"dataframe\">\n",
       "  <thead>\n",
       "    <tr style=\"text-align: right;\">\n",
       "      <th></th>\n",
       "      <th>overall_satisfaction</th>\n",
       "      <th>room_comfort_satisfaction</th>\n",
       "      <th>room_cleanness_satisfaction</th>\n",
       "      <th>nationality</th>\n",
       "      <th>reception_satisfaction</th>\n",
       "      <th>breakfast_satisfaction</th>\n",
       "      <th>regime</th>\n",
       "      <th>segment</th>\n",
       "      <th>entertainment_satisfaction</th>\n",
       "    </tr>\n",
       "  </thead>\n",
       "  <tbody>\n",
       "    <tr>\n",
       "      <th>0</th>\n",
       "      <td>5.298</td>\n",
       "      <td>5.0</td>\n",
       "      <td>5.0</td>\n",
       "      <td>DE</td>\n",
       "      <td>4.0</td>\n",
       "      <td>4.0</td>\n",
       "      <td>all inclusive</td>\n",
       "      <td>NaN</td>\n",
       "      <td>4.0</td>\n",
       "    </tr>\n",
       "    <tr>\n",
       "      <th>1</th>\n",
       "      <td>2.989</td>\n",
       "      <td>3.0</td>\n",
       "      <td>3.0</td>\n",
       "      <td>ES</td>\n",
       "      <td>3.0</td>\n",
       "      <td>4.0</td>\n",
       "      <td>all inclusive</td>\n",
       "      <td>friends</td>\n",
       "      <td>4.0</td>\n",
       "    </tr>\n",
       "    <tr>\n",
       "      <th>2</th>\n",
       "      <td>1.910</td>\n",
       "      <td>5.0</td>\n",
       "      <td>5.0</td>\n",
       "      <td>ES</td>\n",
       "      <td>4.0</td>\n",
       "      <td>5.0</td>\n",
       "      <td>all inclusive</td>\n",
       "      <td>NaN</td>\n",
       "      <td>5.0</td>\n",
       "    </tr>\n",
       "    <tr>\n",
       "      <th>3</th>\n",
       "      <td>5.964</td>\n",
       "      <td>4.0</td>\n",
       "      <td>4.0</td>\n",
       "      <td>UK</td>\n",
       "      <td>4.0</td>\n",
       "      <td>5.0</td>\n",
       "      <td>all inclusive</td>\n",
       "      <td>family</td>\n",
       "      <td>NaN</td>\n",
       "    </tr>\n",
       "    <tr>\n",
       "      <th>4</th>\n",
       "      <td>2.122</td>\n",
       "      <td>5.0</td>\n",
       "      <td>NaN</td>\n",
       "      <td>ES</td>\n",
       "      <td>3.0</td>\n",
       "      <td>5.0</td>\n",
       "      <td>all inclusive</td>\n",
       "      <td>friends</td>\n",
       "      <td>3.0</td>\n",
       "    </tr>\n",
       "  </tbody>\n",
       "</table>\n",
       "</div>"
      ],
      "text/plain": [
       "   overall_satisfaction  room_comfort_satisfaction  \\\n",
       "0                 5.298                        5.0   \n",
       "1                 2.989                        3.0   \n",
       "2                 1.910                        5.0   \n",
       "3                 5.964                        4.0   \n",
       "4                 2.122                        5.0   \n",
       "\n",
       "   room_cleanness_satisfaction nationality  reception_satisfaction  \\\n",
       "0                          5.0          DE                     4.0   \n",
       "1                          3.0          ES                     3.0   \n",
       "2                          5.0          ES                     4.0   \n",
       "3                          4.0          UK                     4.0   \n",
       "4                          NaN          ES                     3.0   \n",
       "\n",
       "   breakfast_satisfaction         regime  segment  entertainment_satisfaction  \n",
       "0                     4.0  all inclusive      NaN                         4.0  \n",
       "1                     4.0  all inclusive  friends                         4.0  \n",
       "2                     5.0  all inclusive      NaN                         5.0  \n",
       "3                     5.0  all inclusive   family                         NaN  \n",
       "4                     5.0  all inclusive  friends                         3.0  "
      ]
     },
     "execution_count": 2,
     "metadata": {},
     "output_type": "execute_result"
    }
   ],
   "source": [
    "# downloading the dataset from the source\n",
    "url = 'https://gist.githubusercontent.com/piffall/1ae5b417d0add7700d8d7fc9f1230642/raw/1e32d34c3bb3cd9bf61de00d5dd00b9c7dab8aaf/surveys.csv'\n",
    "df = pd.read_csv(url, sep = ',')\n",
    "df.head()"
   ]
  },
  {
   "cell_type": "markdown",
   "metadata": {},
   "source": [
    "After seeing for the first time the dataset, we decide to transform the columns 'nationality', 'regime' and 'segment' to categorical variables for further commodity."
   ]
  },
  {
   "cell_type": "code",
   "execution_count": 3,
   "metadata": {},
   "outputs": [
    {
     "data": {
      "text/html": [
       "<div>\n",
       "<style scoped>\n",
       "    .dataframe tbody tr th:only-of-type {\n",
       "        vertical-align: middle;\n",
       "    }\n",
       "\n",
       "    .dataframe tbody tr th {\n",
       "        vertical-align: top;\n",
       "    }\n",
       "\n",
       "    .dataframe thead th {\n",
       "        text-align: right;\n",
       "    }\n",
       "</style>\n",
       "<table border=\"1\" class=\"dataframe\">\n",
       "  <thead>\n",
       "    <tr style=\"text-align: right;\">\n",
       "      <th></th>\n",
       "      <th>overall_satisfaction</th>\n",
       "      <th>room_comfort_satisfaction</th>\n",
       "      <th>room_cleanness_satisfaction</th>\n",
       "      <th>reception_satisfaction</th>\n",
       "      <th>breakfast_satisfaction</th>\n",
       "      <th>entertainment_satisfaction</th>\n",
       "    </tr>\n",
       "  </thead>\n",
       "  <tbody>\n",
       "    <tr>\n",
       "      <th>count</th>\n",
       "      <td>1000.000000</td>\n",
       "      <td>990.000000</td>\n",
       "      <td>949.00000</td>\n",
       "      <td>992.000000</td>\n",
       "      <td>987.000000</td>\n",
       "      <td>711.000000</td>\n",
       "    </tr>\n",
       "    <tr>\n",
       "      <th>mean</th>\n",
       "      <td>3.560109</td>\n",
       "      <td>3.904040</td>\n",
       "      <td>3.91254</td>\n",
       "      <td>3.535282</td>\n",
       "      <td>4.959473</td>\n",
       "      <td>3.855134</td>\n",
       "    </tr>\n",
       "    <tr>\n",
       "      <th>std</th>\n",
       "      <td>1.537186</td>\n",
       "      <td>1.159601</td>\n",
       "      <td>1.16096</td>\n",
       "      <td>0.781190</td>\n",
       "      <td>0.197291</td>\n",
       "      <td>1.227662</td>\n",
       "    </tr>\n",
       "    <tr>\n",
       "      <th>min</th>\n",
       "      <td>-1.002000</td>\n",
       "      <td>1.000000</td>\n",
       "      <td>1.00000</td>\n",
       "      <td>1.000000</td>\n",
       "      <td>4.000000</td>\n",
       "      <td>1.000000</td>\n",
       "    </tr>\n",
       "    <tr>\n",
       "      <th>25%</th>\n",
       "      <td>2.464000</td>\n",
       "      <td>3.000000</td>\n",
       "      <td>3.00000</td>\n",
       "      <td>3.000000</td>\n",
       "      <td>5.000000</td>\n",
       "      <td>3.000000</td>\n",
       "    </tr>\n",
       "    <tr>\n",
       "      <th>50%</th>\n",
       "      <td>3.184000</td>\n",
       "      <td>4.000000</td>\n",
       "      <td>4.00000</td>\n",
       "      <td>4.000000</td>\n",
       "      <td>5.000000</td>\n",
       "      <td>4.000000</td>\n",
       "    </tr>\n",
       "    <tr>\n",
       "      <th>75%</th>\n",
       "      <td>4.964000</td>\n",
       "      <td>5.000000</td>\n",
       "      <td>5.00000</td>\n",
       "      <td>4.000000</td>\n",
       "      <td>5.000000</td>\n",
       "      <td>5.000000</td>\n",
       "    </tr>\n",
       "    <tr>\n",
       "      <th>max</th>\n",
       "      <td>6.710000</td>\n",
       "      <td>5.000000</td>\n",
       "      <td>5.00000</td>\n",
       "      <td>5.000000</td>\n",
       "      <td>5.000000</td>\n",
       "      <td>5.000000</td>\n",
       "    </tr>\n",
       "  </tbody>\n",
       "</table>\n",
       "</div>"
      ],
      "text/plain": [
       "       overall_satisfaction  room_comfort_satisfaction  \\\n",
       "count           1000.000000                 990.000000   \n",
       "mean               3.560109                   3.904040   \n",
       "std                1.537186                   1.159601   \n",
       "min               -1.002000                   1.000000   \n",
       "25%                2.464000                   3.000000   \n",
       "50%                3.184000                   4.000000   \n",
       "75%                4.964000                   5.000000   \n",
       "max                6.710000                   5.000000   \n",
       "\n",
       "       room_cleanness_satisfaction  reception_satisfaction  \\\n",
       "count                    949.00000              992.000000   \n",
       "mean                       3.91254                3.535282   \n",
       "std                        1.16096                0.781190   \n",
       "min                        1.00000                1.000000   \n",
       "25%                        3.00000                3.000000   \n",
       "50%                        4.00000                4.000000   \n",
       "75%                        5.00000                4.000000   \n",
       "max                        5.00000                5.000000   \n",
       "\n",
       "       breakfast_satisfaction  entertainment_satisfaction  \n",
       "count              987.000000                  711.000000  \n",
       "mean                 4.959473                    3.855134  \n",
       "std                  0.197291                    1.227662  \n",
       "min                  4.000000                    1.000000  \n",
       "25%                  5.000000                    3.000000  \n",
       "50%                  5.000000                    4.000000  \n",
       "75%                  5.000000                    5.000000  \n",
       "max                  5.000000                    5.000000  "
      ]
     },
     "execution_count": 3,
     "metadata": {},
     "output_type": "execute_result"
    }
   ],
   "source": [
    "# detection of the categorical variables and dtype correction\n",
    "categorical_vars = ['nationality', 'regime', 'segment']\n",
    "for var in categorical_vars:\n",
    "    df[var] = df[var].astype('category')\n",
    "df.describe()"
   ]
  },
  {
   "cell_type": "code",
   "execution_count": 4,
   "metadata": {},
   "outputs": [],
   "source": [
    "# Correction of the min.\n",
    "# Detected a minimum below the functional documentation specifies\n",
    "# Procedure: change for the minimum value specified in the documentation\n",
    "df.loc[df['overall_satisfaction'] < -1, 'overall_satisfaction'] = -1"
   ]
  },
  {
   "cell_type": "code",
   "execution_count": 5,
   "metadata": {},
   "outputs": [
    {
     "data": {
      "text/html": [
       "<div>\n",
       "<style scoped>\n",
       "    .dataframe tbody tr th:only-of-type {\n",
       "        vertical-align: middle;\n",
       "    }\n",
       "\n",
       "    .dataframe tbody tr th {\n",
       "        vertical-align: top;\n",
       "    }\n",
       "\n",
       "    .dataframe thead th {\n",
       "        text-align: right;\n",
       "    }\n",
       "</style>\n",
       "<table border=\"1\" class=\"dataframe\">\n",
       "  <thead>\n",
       "    <tr style=\"text-align: right;\">\n",
       "      <th></th>\n",
       "      <th>nationality</th>\n",
       "      <th>regime</th>\n",
       "      <th>segment</th>\n",
       "    </tr>\n",
       "  </thead>\n",
       "  <tbody>\n",
       "    <tr>\n",
       "      <th>count</th>\n",
       "      <td>1000</td>\n",
       "      <td>803</td>\n",
       "      <td>696</td>\n",
       "    </tr>\n",
       "    <tr>\n",
       "      <th>unique</th>\n",
       "      <td>5</td>\n",
       "      <td>1</td>\n",
       "      <td>4</td>\n",
       "    </tr>\n",
       "    <tr>\n",
       "      <th>top</th>\n",
       "      <td>ES</td>\n",
       "      <td>all inclusive</td>\n",
       "      <td>family</td>\n",
       "    </tr>\n",
       "    <tr>\n",
       "      <th>freq</th>\n",
       "      <td>487</td>\n",
       "      <td>803</td>\n",
       "      <td>300</td>\n",
       "    </tr>\n",
       "  </tbody>\n",
       "</table>\n",
       "</div>"
      ],
      "text/plain": [
       "       nationality         regime segment\n",
       "count         1000            803     696\n",
       "unique           5              1       4\n",
       "top             ES  all inclusive  family\n",
       "freq           487            803     300"
      ]
     },
     "execution_count": 5,
     "metadata": {},
     "output_type": "execute_result"
    }
   ],
   "source": [
    "df[categorical_vars].describe()"
   ]
  },
  {
   "cell_type": "code",
   "execution_count": 6,
   "metadata": {},
   "outputs": [
    {
     "data": {
      "text/html": [
       "<div>\n",
       "<style scoped>\n",
       "    .dataframe tbody tr th:only-of-type {\n",
       "        vertical-align: middle;\n",
       "    }\n",
       "\n",
       "    .dataframe tbody tr th {\n",
       "        vertical-align: top;\n",
       "    }\n",
       "\n",
       "    .dataframe thead th {\n",
       "        text-align: right;\n",
       "    }\n",
       "</style>\n",
       "<table border=\"1\" class=\"dataframe\">\n",
       "  <thead>\n",
       "    <tr style=\"text-align: right;\">\n",
       "      <th></th>\n",
       "      <th>overall_satisfaction</th>\n",
       "      <th>room_comfort_satisfaction</th>\n",
       "      <th>room_cleanness_satisfaction</th>\n",
       "      <th>reception_satisfaction</th>\n",
       "      <th>breakfast_satisfaction</th>\n",
       "      <th>entertainment_satisfaction</th>\n",
       "    </tr>\n",
       "  </thead>\n",
       "  <tbody>\n",
       "    <tr>\n",
       "      <th>overall_satisfaction</th>\n",
       "      <td>1.000000</td>\n",
       "      <td>0.575801</td>\n",
       "      <td>0.584757</td>\n",
       "      <td>0.489763</td>\n",
       "      <td>0.008301</td>\n",
       "      <td>0.019972</td>\n",
       "    </tr>\n",
       "    <tr>\n",
       "      <th>room_comfort_satisfaction</th>\n",
       "      <td>0.575801</td>\n",
       "      <td>1.000000</td>\n",
       "      <td>1.000000</td>\n",
       "      <td>0.799198</td>\n",
       "      <td>0.014064</td>\n",
       "      <td>0.077959</td>\n",
       "    </tr>\n",
       "    <tr>\n",
       "      <th>room_cleanness_satisfaction</th>\n",
       "      <td>0.584757</td>\n",
       "      <td>1.000000</td>\n",
       "      <td>1.000000</td>\n",
       "      <td>0.795808</td>\n",
       "      <td>0.012139</td>\n",
       "      <td>0.088256</td>\n",
       "    </tr>\n",
       "    <tr>\n",
       "      <th>reception_satisfaction</th>\n",
       "      <td>0.489763</td>\n",
       "      <td>0.799198</td>\n",
       "      <td>0.795808</td>\n",
       "      <td>1.000000</td>\n",
       "      <td>0.013354</td>\n",
       "      <td>0.072764</td>\n",
       "    </tr>\n",
       "    <tr>\n",
       "      <th>breakfast_satisfaction</th>\n",
       "      <td>0.008301</td>\n",
       "      <td>0.014064</td>\n",
       "      <td>0.012139</td>\n",
       "      <td>0.013354</td>\n",
       "      <td>1.000000</td>\n",
       "      <td>0.023823</td>\n",
       "    </tr>\n",
       "    <tr>\n",
       "      <th>entertainment_satisfaction</th>\n",
       "      <td>0.019972</td>\n",
       "      <td>0.077959</td>\n",
       "      <td>0.088256</td>\n",
       "      <td>0.072764</td>\n",
       "      <td>0.023823</td>\n",
       "      <td>1.000000</td>\n",
       "    </tr>\n",
       "  </tbody>\n",
       "</table>\n",
       "</div>"
      ],
      "text/plain": [
       "                             overall_satisfaction  room_comfort_satisfaction  \\\n",
       "overall_satisfaction                     1.000000                   0.575801   \n",
       "room_comfort_satisfaction                0.575801                   1.000000   \n",
       "room_cleanness_satisfaction              0.584757                   1.000000   \n",
       "reception_satisfaction                   0.489763                   0.799198   \n",
       "breakfast_satisfaction                   0.008301                   0.014064   \n",
       "entertainment_satisfaction               0.019972                   0.077959   \n",
       "\n",
       "                             room_cleanness_satisfaction  \\\n",
       "overall_satisfaction                            0.584757   \n",
       "room_comfort_satisfaction                       1.000000   \n",
       "room_cleanness_satisfaction                     1.000000   \n",
       "reception_satisfaction                          0.795808   \n",
       "breakfast_satisfaction                          0.012139   \n",
       "entertainment_satisfaction                      0.088256   \n",
       "\n",
       "                             reception_satisfaction  breakfast_satisfaction  \\\n",
       "overall_satisfaction                       0.489763                0.008301   \n",
       "room_comfort_satisfaction                  0.799198                0.014064   \n",
       "room_cleanness_satisfaction                0.795808                0.012139   \n",
       "reception_satisfaction                     1.000000                0.013354   \n",
       "breakfast_satisfaction                     0.013354                1.000000   \n",
       "entertainment_satisfaction                 0.072764                0.023823   \n",
       "\n",
       "                             entertainment_satisfaction  \n",
       "overall_satisfaction                           0.019972  \n",
       "room_comfort_satisfaction                      0.077959  \n",
       "room_cleanness_satisfaction                    0.088256  \n",
       "reception_satisfaction                         0.072764  \n",
       "breakfast_satisfaction                         0.023823  \n",
       "entertainment_satisfaction                     1.000000  "
      ]
     },
     "execution_count": 6,
     "metadata": {},
     "output_type": "execute_result"
    }
   ],
   "source": [
    "df.corr()"
   ]
  },
  {
   "cell_type": "markdown",
   "metadata": {},
   "source": [
    "We may also want to see some plots of the distribution of the overall satisfaction to get an idea about what the variable we and the client want to understand looks like. We also want to look how the variables interact with the others with a correlation analysis. The higher the correlation, the bigger impact is going to make a variable in our focused variable 'overall_satisfaction'."
   ]
  },
  {
   "cell_type": "code",
   "execution_count": 7,
   "metadata": {},
   "outputs": [
    {
     "data": {
      "text/plain": [
       "<AxesSubplot:ylabel='Frequency'>"
      ]
     },
     "execution_count": 7,
     "metadata": {},
     "output_type": "execute_result"
    },
    {
     "data": {
      "image/png": "[encoded data removed]",
      "text/plain": [
       "<Figure size 432x288 with 1 Axes>"
      ]
     },
     "metadata": {
      "needs_background": "light"
     },
     "output_type": "display_data"
    }
   ],
   "source": [
    "df['overall_satisfaction'].plot(kind='hist')"
   ]
  },
  {
   "cell_type": "code",
   "execution_count": 8,
   "metadata": {},
   "outputs": [
    {
     "data": {
      "text/plain": [
       "<AxesSubplot:xlabel='overall_satisfaction'>"
      ]
     },
     "execution_count": 8,
     "metadata": {},
     "output_type": "execute_result"
    },
    {
     "data": {
      "image/png": "[encoded data removed]",
      "text/plain": [
       "<Figure size 432x288 with 1 Axes>"
      ]
     },
     "metadata": {
      "needs_background": "light"
     },
     "output_type": "display_data"
    }
   ],
   "source": [
    "sns.distplot(df['overall_satisfaction'])"
   ]
  },
  {
   "cell_type": "markdown",
   "metadata": {},
   "source": [
    "At this point and before applying any model, we can see in the numerical variables:\n",
    "- 'breakfast_satisfaction' does not add much information due de low variability in its values (only 4 and 5) \n",
    "- 'entertainment_satisfaction' seems not to be correlated with the final satisfaction of the client. We will keep an eye on it.\n",
    "\n",
    "These two variables are candidates to be not considered part of the model due to the reasons just exposed.\n",
    "\n",
    "On the other hand, in the categorical ones we see:\n",
    "- 'regime' only has or the value 'all inclusive' or a NAN. That is probably a reason to consider removing it.\n",
    "- 'segment' has an elevated ratio of NAN.\n",
    "\n",
    "Considering the low amount of records in this dataset we might better consider treating NAN's as a new category as an option the client could not answer for some reason. This is a personal assumption that could be discussed with the team or with the hotel."
   ]
  },
  {
   "cell_type": "markdown",
   "metadata": {},
   "source": [
    "### 1.2 Data cleansing"
   ]
  },
  {
   "cell_type": "markdown",
   "metadata": {},
   "source": [
    "#### 1.2.1 Data imputation"
   ]
  },
  {
   "cell_type": "markdown",
   "metadata": {},
   "source": [
    "First of all, we have seen that we have nulls and only 1000 observations. At this point, and although that is risky to impute the 30% of a variable, we keep on imputing guided for the low amount of information that we have, the decision is not to waste away the rows that have any missing value. Instead, we will impute the numeric variables with the K-NN method (chosen in this case because we can not have an outlier in discrete numerical punctuation) and for the categorical ones first we will try to use the NAN's as a new category possible."
   ]
  },
  {
   "cell_type": "code",
   "execution_count": 9,
   "metadata": {},
   "outputs": [],
   "source": [
    "#imputing the numerical variables\n",
    "knn = KNNImputer(n_neighbors=5)\n",
    "numerical = df.drop(categorical_vars, axis=1)\n",
    "numerical_imputed = pd.DataFrame(knn.fit_transform(numerical), columns=numerical.columns)\n",
    "\n",
    "#imputing the categorical data with a new category called IMPUTED\n",
    "df['regime'] = df['regime'].cat.add_categories('IMPUTED').fillna('IMPUTED')\n",
    "df['segment'] = df['segment'].cat.add_categories('IMPUTED').fillna('IMPUTED')\n",
    "categorical_imputed = df[categorical_vars]"
   ]
  },
  {
   "cell_type": "markdown",
   "metadata": {},
   "source": [
    "#### 1.2.2 Normalization"
   ]
  },
  {
   "cell_type": "markdown",
   "metadata": {},
   "source": [
    "Once we have a dataset with no nulls, we can follow up to the discussion in standarizing and normalizing data. Despite the 'overall_satisfaction', in this case the punctuations between 1 and 5 make most of the variables stable. Moreover, 'overall_satisfaction' has a very uncommon range [-1,7] that will not be ideal to interpret. Reached this point and due the reasoning above the procedure will be to normalize the ranges of all the numeric values into [0-1]. In this case, the decision to not standardize the data is because the ranges of the variables are already defined and we only rescaled them. We will keep a non rescaled dataset just in case we prefer the results without scaling. It will depend on the model used."
   ]
  },
  {
   "cell_type": "code",
   "execution_count": 10,
   "metadata": {},
   "outputs": [],
   "source": [
    "scaler = MinMaxScaler()\n",
    "scaled = pd.DataFrame(scaler.fit_transform(numerical_imputed), columns=numerical_imputed.columns)"
   ]
  },
  {
   "cell_type": "code",
   "execution_count": 11,
   "metadata": {},
   "outputs": [
    {
     "data": {
      "text/html": [
       "<div>\n",
       "<style scoped>\n",
       "    .dataframe tbody tr th:only-of-type {\n",
       "        vertical-align: middle;\n",
       "    }\n",
       "\n",
       "    .dataframe tbody tr th {\n",
       "        vertical-align: top;\n",
       "    }\n",
       "\n",
       "    .dataframe thead th {\n",
       "        text-align: right;\n",
       "    }\n",
       "</style>\n",
       "<table border=\"1\" class=\"dataframe\">\n",
       "  <thead>\n",
       "    <tr style=\"text-align: right;\">\n",
       "      <th></th>\n",
       "      <th>overall_satisfaction</th>\n",
       "      <th>room_comfort_satisfaction</th>\n",
       "      <th>room_cleanness_satisfaction</th>\n",
       "      <th>reception_satisfaction</th>\n",
       "      <th>breakfast_satisfaction</th>\n",
       "      <th>entertainment_satisfaction</th>\n",
       "      <th>nationality</th>\n",
       "      <th>regime</th>\n",
       "      <th>segment</th>\n",
       "    </tr>\n",
       "  </thead>\n",
       "  <tbody>\n",
       "    <tr>\n",
       "      <th>0</th>\n",
       "      <td>0.816861</td>\n",
       "      <td>1.00</td>\n",
       "      <td>1.00</td>\n",
       "      <td>0.75</td>\n",
       "      <td>0.0</td>\n",
       "      <td>0.75</td>\n",
       "      <td>DE</td>\n",
       "      <td>all inclusive</td>\n",
       "      <td>IMPUTED</td>\n",
       "    </tr>\n",
       "    <tr>\n",
       "      <th>1</th>\n",
       "      <td>0.517380</td>\n",
       "      <td>0.50</td>\n",
       "      <td>0.50</td>\n",
       "      <td>0.50</td>\n",
       "      <td>0.0</td>\n",
       "      <td>0.75</td>\n",
       "      <td>ES</td>\n",
       "      <td>all inclusive</td>\n",
       "      <td>friends</td>\n",
       "    </tr>\n",
       "    <tr>\n",
       "      <th>2</th>\n",
       "      <td>0.377432</td>\n",
       "      <td>1.00</td>\n",
       "      <td>1.00</td>\n",
       "      <td>0.75</td>\n",
       "      <td>1.0</td>\n",
       "      <td>1.00</td>\n",
       "      <td>ES</td>\n",
       "      <td>all inclusive</td>\n",
       "      <td>IMPUTED</td>\n",
       "    </tr>\n",
       "    <tr>\n",
       "      <th>3</th>\n",
       "      <td>0.903243</td>\n",
       "      <td>0.75</td>\n",
       "      <td>0.75</td>\n",
       "      <td>0.75</td>\n",
       "      <td>1.0</td>\n",
       "      <td>0.80</td>\n",
       "      <td>UK</td>\n",
       "      <td>all inclusive</td>\n",
       "      <td>family</td>\n",
       "    </tr>\n",
       "    <tr>\n",
       "      <th>4</th>\n",
       "      <td>0.404929</td>\n",
       "      <td>1.00</td>\n",
       "      <td>0.85</td>\n",
       "      <td>0.50</td>\n",
       "      <td>1.0</td>\n",
       "      <td>0.50</td>\n",
       "      <td>ES</td>\n",
       "      <td>all inclusive</td>\n",
       "      <td>friends</td>\n",
       "    </tr>\n",
       "  </tbody>\n",
       "</table>\n",
       "</div>"
      ],
      "text/plain": [
       "   overall_satisfaction  room_comfort_satisfaction  \\\n",
       "0              0.816861                       1.00   \n",
       "1              0.517380                       0.50   \n",
       "2              0.377432                       1.00   \n",
       "3              0.903243                       0.75   \n",
       "4              0.404929                       1.00   \n",
       "\n",
       "   room_cleanness_satisfaction  reception_satisfaction  \\\n",
       "0                         1.00                    0.75   \n",
       "1                         0.50                    0.50   \n",
       "2                         1.00                    0.75   \n",
       "3                         0.75                    0.75   \n",
       "4                         0.85                    0.50   \n",
       "\n",
       "   breakfast_satisfaction  entertainment_satisfaction nationality  \\\n",
       "0                     0.0                        0.75          DE   \n",
       "1                     0.0                        0.75          ES   \n",
       "2                     1.0                        1.00          ES   \n",
       "3                     1.0                        0.80          UK   \n",
       "4                     1.0                        0.50          ES   \n",
       "\n",
       "          regime  segment  \n",
       "0  all inclusive  IMPUTED  \n",
       "1  all inclusive  friends  \n",
       "2  all inclusive  IMPUTED  \n",
       "3  all inclusive   family  \n",
       "4  all inclusive  friends  "
      ]
     },
     "execution_count": 11,
     "metadata": {},
     "output_type": "execute_result"
    }
   ],
   "source": [
    "#joining the dataset we just splitted apart\n",
    "df_model_scaled = pd.concat([scaled,categorical_imputed], axis = 1)\n",
    "#we may preserve a non scaled dataset in order to have both options\n",
    "df_model = pd.concat([numerical_imputed,categorical_imputed], axis = 1)\n",
    "df_model_scaled.head()"
   ]
  },
  {
   "cell_type": "markdown",
   "metadata": {},
   "source": [
    "### 1.3 Re-Explore the dataset"
   ]
  },
  {
   "cell_type": "markdown",
   "metadata": {},
   "source": [
    "Once we have a dataset to work with, we can plot some boxplots to see how the categories affect in the overall satisfaction. We will do it for the 3 categorical variables."
   ]
  },
  {
   "cell_type": "code",
   "execution_count": 12,
   "metadata": {},
   "outputs": [
    {
     "data": {
      "text/plain": [
       "<AxesSubplot:xlabel='nationality', ylabel='overall_satisfaction'>"
      ]
     },
     "execution_count": 12,
     "metadata": {},
     "output_type": "execute_result"
    },
    {
     "data": {
      "image/png": "[encoded data removed]",
      "text/plain": [
       "<Figure size 720x360 with 1 Axes>"
      ]
     },
     "metadata": {
      "needs_background": "light"
     },
     "output_type": "display_data"
    }
   ],
   "source": [
    "plt.figure(figsize=(10,5))\n",
    "sns.boxplot(x='nationality',y='overall_satisfaction', data=df_model)"
   ]
  },
  {
   "cell_type": "markdown",
   "metadata": {},
   "source": [
    "Here, happened an unexpected result. Spanish people tend to rate significantly worse rather than the other nationalities, so we want to plot, for each nationality all the ratings made by the customers."
   ]
  },
  {
   "cell_type": "code",
   "execution_count": 34,
   "metadata": {},
   "outputs": [
    {
     "data": {
      "image/png": "[encoded data removed]",
      "text/plain": [
       "<Figure size 1080x2160 with 5 Axes>"
      ]
     },
     "metadata": {
      "needs_background": "light"
     },
     "output_type": "display_data"
    }
   ],
   "source": [
    "fig, axes = plt.subplots(5,1, figsize=(15,30))\n",
    "\n",
    "axes = axes.flatten()\n",
    "i = 0\n",
    "for nationality, data in df_model.groupby('nationality'):\n",
    "\n",
    "    title = 'Nationality ' +str(nationality)+ '   N.obs= '+str(len(data))\n",
    "\n",
    "    sns.boxplot(x='variable', y='value', data=pd.melt(data[numerical.columns]), showfliers=True, ax=axes[i]).set(ylim=(-1,7),title=title)\n",
    "    i+=1"
   ]
  },
  {
   "cell_type": "code",
   "execution_count": 14,
   "metadata": {},
   "outputs": [
    {
     "data": {
      "text/plain": [
       "<AxesSubplot:xlabel='regime', ylabel='overall_satisfaction'>"
      ]
     },
     "execution_count": 14,
     "metadata": {},
     "output_type": "execute_result"
    },
    {
     "data": {
      "image/png": "[encoded data removed]",
      "text/plain": [
       "<Figure size 432x288 with 1 Axes>"
      ]
     },
     "metadata": {
      "needs_background": "light"
     },
     "output_type": "display_data"
    }
   ],
   "source": [
    "sns.boxplot(x='regime',y='overall_satisfaction', data=df_model )"
   ]
  },
  {
   "cell_type": "code",
   "execution_count": 15,
   "metadata": {},
   "outputs": [
    {
     "data": {
      "text/plain": [
       "<AxesSubplot:xlabel='segment', ylabel='overall_satisfaction'>"
      ]
     },
     "execution_count": 15,
     "metadata": {},
     "output_type": "execute_result"
    },
    {
     "data": {
      "image/png": "[encoded data removed]",
      "text/plain": [
       "<Figure size 432x288 with 1 Axes>"
      ]
     },
     "metadata": {
      "needs_background": "light"
     },
     "output_type": "display_data"
    }
   ],
   "source": [
    "sns.boxplot(x='segment',y='overall_satisfaction', data=df_model )"
   ]
  },
  {
   "cell_type": "markdown",
   "metadata": {},
   "source": [
    "### 1.4 Modelling"
   ]
  },
  {
   "cell_type": "markdown",
   "metadata": {},
   "source": [
    "#### 1.4.1 Multivariate analysis with one-hot encoding linear regression"
   ]
  },
  {
   "cell_type": "markdown",
   "metadata": {},
   "source": [
    "An easy-to-explain model that can ponderate each variable of the dataset in order to fit our data can be this multiple linear regression model that will be able to show which variables affect more and the proportion which they do it."
   ]
  },
  {
   "cell_type": "code",
   "execution_count": 35,
   "metadata": {},
   "outputs": [
    {
     "name": "stdout",
     "output_type": "stream",
     "text": [
      "Intercept: \n",
      " 1.1612336795581375\n",
      "Coefficients: \n",
      " [-0.64168424  1.22763571  0.19754813  0.00828108  0.0218618   0.44367798\n",
      " -1.87351076  0.78508478  0.32415582  0.32059217 -0.03188584  0.03188584\n",
      " -0.07098366  0.00475374  0.09494457 -0.02664817 -0.00206648]\n"
     ]
    }
   ],
   "source": [
    "#note that we use the non rescaled dataset to be able to test the coefficients of the linear regression\n",
    "dummies = pd.get_dummies(df_model)\n",
    "# if we were training a model we would remove 1 of the new dummy columns to avoid the multi-collinearity\n",
    "#dummies.drop(['nationality_US', 'regime_IMPUTED', 'segment_IMPUTED'], axis = 1, inplace=True)\n",
    "\n",
    "X = dummies.drop(['overall_satisfaction'], axis=1)\n",
    "Y = dummies['overall_satisfaction']\n",
    "\n",
    "regr = linear_model.LinearRegression()\n",
    "regr.fit(X,Y)\n",
    "\n",
    "print('Intercept: \\n', regr.intercept_)\n",
    "print('Coefficients: \\n', regr.coef_)"
   ]
  },
  {
   "cell_type": "code",
   "execution_count": 63,
   "metadata": {},
   "outputs": [
    {
     "data": {
      "text/html": [
       "<div>\n",
       "<style scoped>\n",
       "    .dataframe tbody tr th:only-of-type {\n",
       "        vertical-align: middle;\n",
       "    }\n",
       "\n",
       "    .dataframe tbody tr th {\n",
       "        vertical-align: top;\n",
       "    }\n",
       "\n",
       "    .dataframe thead th {\n",
       "        text-align: right;\n",
       "    }\n",
       "</style>\n",
       "<table border=\"1\" class=\"dataframe\">\n",
       "  <thead>\n",
       "    <tr style=\"text-align: right;\">\n",
       "      <th></th>\n",
       "      <th>feature</th>\n",
       "      <th>coefficient</th>\n",
       "    </tr>\n",
       "  </thead>\n",
       "  <tbody>\n",
       "    <tr>\n",
       "      <th>1</th>\n",
       "      <td>room_cleanness_satisfaction</td>\n",
       "      <td>1.227636</td>\n",
       "    </tr>\n",
       "    <tr>\n",
       "      <th>7</th>\n",
       "      <td>nationality_FR</td>\n",
       "      <td>0.785085</td>\n",
       "    </tr>\n",
       "    <tr>\n",
       "      <th>5</th>\n",
       "      <td>nationality_DE</td>\n",
       "      <td>0.443678</td>\n",
       "    </tr>\n",
       "    <tr>\n",
       "      <th>8</th>\n",
       "      <td>nationality_UK</td>\n",
       "      <td>0.324156</td>\n",
       "    </tr>\n",
       "    <tr>\n",
       "      <th>9</th>\n",
       "      <td>nationality_US</td>\n",
       "      <td>0.320592</td>\n",
       "    </tr>\n",
       "    <tr>\n",
       "      <th>2</th>\n",
       "      <td>reception_satisfaction</td>\n",
       "      <td>0.197548</td>\n",
       "    </tr>\n",
       "    <tr>\n",
       "      <th>14</th>\n",
       "      <td>segment_family</td>\n",
       "      <td>0.094945</td>\n",
       "    </tr>\n",
       "    <tr>\n",
       "      <th>11</th>\n",
       "      <td>regime_IMPUTED</td>\n",
       "      <td>0.031886</td>\n",
       "    </tr>\n",
       "    <tr>\n",
       "      <th>4</th>\n",
       "      <td>entertainment_satisfaction</td>\n",
       "      <td>0.021862</td>\n",
       "    </tr>\n",
       "    <tr>\n",
       "      <th>3</th>\n",
       "      <td>breakfast_satisfaction</td>\n",
       "      <td>0.008281</td>\n",
       "    </tr>\n",
       "    <tr>\n",
       "      <th>13</th>\n",
       "      <td>segment_couple</td>\n",
       "      <td>0.004754</td>\n",
       "    </tr>\n",
       "    <tr>\n",
       "      <th>16</th>\n",
       "      <td>segment_IMPUTED</td>\n",
       "      <td>-0.002066</td>\n",
       "    </tr>\n",
       "    <tr>\n",
       "      <th>15</th>\n",
       "      <td>segment_friends</td>\n",
       "      <td>-0.026648</td>\n",
       "    </tr>\n",
       "    <tr>\n",
       "      <th>10</th>\n",
       "      <td>regime_all inclusive</td>\n",
       "      <td>-0.031886</td>\n",
       "    </tr>\n",
       "    <tr>\n",
       "      <th>12</th>\n",
       "      <td>segment_business</td>\n",
       "      <td>-0.070984</td>\n",
       "    </tr>\n",
       "    <tr>\n",
       "      <th>0</th>\n",
       "      <td>room_comfort_satisfaction</td>\n",
       "      <td>-0.641684</td>\n",
       "    </tr>\n",
       "    <tr>\n",
       "      <th>6</th>\n",
       "      <td>nationality_ES</td>\n",
       "      <td>-1.873511</td>\n",
       "    </tr>\n",
       "  </tbody>\n",
       "</table>\n",
       "</div>"
      ],
      "text/plain": [
       "                        feature  coefficient\n",
       "1   room_cleanness_satisfaction     1.227636\n",
       "7                nationality_FR     0.785085\n",
       "5                nationality_DE     0.443678\n",
       "8                nationality_UK     0.324156\n",
       "9                nationality_US     0.320592\n",
       "2        reception_satisfaction     0.197548\n",
       "14               segment_family     0.094945\n",
       "11               regime_IMPUTED     0.031886\n",
       "4    entertainment_satisfaction     0.021862\n",
       "3        breakfast_satisfaction     0.008281\n",
       "13               segment_couple     0.004754\n",
       "16              segment_IMPUTED    -0.002066\n",
       "15              segment_friends    -0.026648\n",
       "10         regime_all inclusive    -0.031886\n",
       "12             segment_business    -0.070984\n",
       "0     room_comfort_satisfaction    -0.641684\n",
       "6                nationality_ES    -1.873511"
      ]
     },
     "execution_count": 63,
     "metadata": {},
     "output_type": "execute_result"
    }
   ],
   "source": [
    "coefficients = pd.DataFrame(zip(dummies.drop(['overall_satisfaction'], axis=1).columns, regr.coef_), columns=['feature', 'coefficient'])\n",
    "coefficients.sort_values(by='coefficient', ascending=False, inplace=True)\n",
    "coefficients"
   ]
  },
  {
   "cell_type": "markdown",
   "metadata": {},
   "source": [
    "#### 1.4.2 Variable importance detection with CatBoost"
   ]
  },
  {
   "cell_type": "markdown",
   "metadata": {},
   "source": [
    "Here, with CatBoost (a suitable modified XGBoost to work well with categories) we can confirm if the weights displayed in the linear regression do align correctly with the variable importance of the model. We can train to predict but it is not the main goal in this problem. We want to ensure and confirm the conclusions seen in the plots and the other model."
   ]
  },
  {
   "cell_type": "code",
   "execution_count": 60,
   "metadata": {},
   "outputs": [
    {
     "data": {
      "text/html": [
       "<div>\n",
       "<style scoped>\n",
       "    .dataframe tbody tr th:only-of-type {\n",
       "        vertical-align: middle;\n",
       "    }\n",
       "\n",
       "    .dataframe tbody tr th {\n",
       "        vertical-align: top;\n",
       "    }\n",
       "\n",
       "    .dataframe thead th {\n",
       "        text-align: right;\n",
       "    }\n",
       "</style>\n",
       "<table border=\"1\" class=\"dataframe\">\n",
       "  <thead>\n",
       "    <tr style=\"text-align: right;\">\n",
       "      <th></th>\n",
       "      <th>feature</th>\n",
       "      <th>score</th>\n",
       "    </tr>\n",
       "  </thead>\n",
       "  <tbody>\n",
       "    <tr>\n",
       "      <th>5</th>\n",
       "      <td>nationality</td>\n",
       "      <td>74.735540</td>\n",
       "    </tr>\n",
       "    <tr>\n",
       "      <th>0</th>\n",
       "      <td>room_comfort_satisfaction</td>\n",
       "      <td>9.726699</td>\n",
       "    </tr>\n",
       "    <tr>\n",
       "      <th>1</th>\n",
       "      <td>room_cleanness_satisfaction</td>\n",
       "      <td>8.761832</td>\n",
       "    </tr>\n",
       "    <tr>\n",
       "      <th>2</th>\n",
       "      <td>reception_satisfaction</td>\n",
       "      <td>4.360444</td>\n",
       "    </tr>\n",
       "    <tr>\n",
       "      <th>4</th>\n",
       "      <td>entertainment_satisfaction</td>\n",
       "      <td>1.277153</td>\n",
       "    </tr>\n",
       "    <tr>\n",
       "      <th>7</th>\n",
       "      <td>segment</td>\n",
       "      <td>0.469940</td>\n",
       "    </tr>\n",
       "    <tr>\n",
       "      <th>6</th>\n",
       "      <td>regime</td>\n",
       "      <td>0.433744</td>\n",
       "    </tr>\n",
       "    <tr>\n",
       "      <th>3</th>\n",
       "      <td>breakfast_satisfaction</td>\n",
       "      <td>0.234648</td>\n",
       "    </tr>\n",
       "  </tbody>\n",
       "</table>\n",
       "</div>"
      ],
      "text/plain": [
       "                       feature      score\n",
       "5                  nationality  74.735540\n",
       "0    room_comfort_satisfaction   9.726699\n",
       "1  room_cleanness_satisfaction   8.761832\n",
       "2       reception_satisfaction   4.360444\n",
       "4   entertainment_satisfaction   1.277153\n",
       "7                      segment   0.469940\n",
       "6                       regime   0.433744\n",
       "3       breakfast_satisfaction   0.234648"
      ]
     },
     "execution_count": 60,
     "metadata": {},
     "output_type": "execute_result"
    }
   ],
   "source": [
    "params = {'loss_function':'MAE',\n",
    "          'eval_metric':'MAE',\n",
    "          'od_type':'IncToDec',\n",
    "          'learning_rate':0.01,\n",
    "          'cat_features': categorical_vars,\n",
    "          'num_trees': 500,\n",
    "          'verbose':0,\n",
    "          'random_seed':777,\n",
    "        }\n",
    "\n",
    "cb = CatBoostRegressor(**params)\n",
    "\n",
    "X = df_model_scaled.drop(['overall_satisfaction'], axis=1)\n",
    "Y = df_model_scaled['overall_satisfaction']\n",
    "\n",
    "cb.fit(X,Y)\n",
    "\n",
    "importances = pd.DataFrame(zip(X.columns, cb.get_feature_importance()), columns = ['feature', 'score'])\n",
    "importances.sort_values(by='score', ascending=False, inplace=True)\n",
    "importances"
   ]
  },
  {
   "cell_type": "markdown",
   "metadata": {},
   "source": [
    "#### 1.4.3 Variable importance detection without nationality with CatBoost"
   ]
  },
  {
   "cell_type": "markdown",
   "metadata": {},
   "source": [
    "This point is added due to clarify if any variable does win notoriety when the nationality of the client is not in play."
   ]
  },
  {
   "cell_type": "code",
   "execution_count": 59,
   "metadata": {},
   "outputs": [
    {
     "data": {
      "text/html": [
       "<div>\n",
       "<style scoped>\n",
       "    .dataframe tbody tr th:only-of-type {\n",
       "        vertical-align: middle;\n",
       "    }\n",
       "\n",
       "    .dataframe tbody tr th {\n",
       "        vertical-align: top;\n",
       "    }\n",
       "\n",
       "    .dataframe thead th {\n",
       "        text-align: right;\n",
       "    }\n",
       "</style>\n",
       "<table border=\"1\" class=\"dataframe\">\n",
       "  <thead>\n",
       "    <tr style=\"text-align: right;\">\n",
       "      <th></th>\n",
       "      <th>feature</th>\n",
       "      <th>score</th>\n",
       "    </tr>\n",
       "  </thead>\n",
       "  <tbody>\n",
       "    <tr>\n",
       "      <th>1</th>\n",
       "      <td>room_cleanness_satisfaction</td>\n",
       "      <td>26.033942</td>\n",
       "    </tr>\n",
       "    <tr>\n",
       "      <th>4</th>\n",
       "      <td>entertainment_satisfaction</td>\n",
       "      <td>23.447531</td>\n",
       "    </tr>\n",
       "    <tr>\n",
       "      <th>0</th>\n",
       "      <td>room_comfort_satisfaction</td>\n",
       "      <td>19.987372</td>\n",
       "    </tr>\n",
       "    <tr>\n",
       "      <th>6</th>\n",
       "      <td>segment</td>\n",
       "      <td>16.458734</td>\n",
       "    </tr>\n",
       "    <tr>\n",
       "      <th>2</th>\n",
       "      <td>reception_satisfaction</td>\n",
       "      <td>7.413228</td>\n",
       "    </tr>\n",
       "    <tr>\n",
       "      <th>5</th>\n",
       "      <td>regime</td>\n",
       "      <td>4.458806</td>\n",
       "    </tr>\n",
       "    <tr>\n",
       "      <th>3</th>\n",
       "      <td>breakfast_satisfaction</td>\n",
       "      <td>2.200386</td>\n",
       "    </tr>\n",
       "  </tbody>\n",
       "</table>\n",
       "</div>"
      ],
      "text/plain": [
       "                       feature      score\n",
       "1  room_cleanness_satisfaction  26.033942\n",
       "4   entertainment_satisfaction  23.447531\n",
       "0    room_comfort_satisfaction  19.987372\n",
       "6                      segment  16.458734\n",
       "2       reception_satisfaction   7.413228\n",
       "5                       regime   4.458806\n",
       "3       breakfast_satisfaction   2.200386"
      ]
     },
     "execution_count": 59,
     "metadata": {},
     "output_type": "execute_result"
    }
   ],
   "source": [
    "params = {'loss_function':'MAE',\n",
    "          'eval_metric':'MAE',\n",
    "          'od_type':'IncToDec',\n",
    "          'learning_rate':0.01,\n",
    "          'cat_features': ['segment', 'regime'],\n",
    "          'num_trees': 500,\n",
    "          'verbose':0,\n",
    "          'random_seed':777,\n",
    "        }\n",
    "\n",
    "cb = CatBoostRegressor(**params)\n",
    "\n",
    "X = df_model_scaled.drop(['overall_satisfaction', 'nationality'], axis=1)\n",
    "Y = df_model_scaled['overall_satisfaction']\n",
    "\n",
    "cb.fit(X,Y)\n",
    "\n",
    "importances = pd.DataFrame(zip(X.columns, cb.get_feature_importance()), columns = ['feature', 'score'])\n",
    "importances.sort_values(by='score', ascending=False, inplace=True)\n",
    "importances"
   ]
  },
  {
   "cell_type": "markdown",
   "metadata": {},
   "source": [
    "## 2. Conclusions"
   ]
  },
  {
   "cell_type": "markdown",
   "metadata": {},
   "source": [
    "Having in mind that the hotel wants to maximize the overall satisfaction, what we have made in this analysis is finding the most correlated variables which have a direct impact on the overall score. If we check some of the results seen in the whole procedure, we instantly realize that there are variables that do not enrich the data like we mentioned during the process like 'breakfast_satisfaction' which at the end of the analysis we can confirm what we expected having the least importance in CatBoost and the closest value to 0 in the coefficients and that is how we can evaluate the rest of variables.\n",
    "\n",
    "Considering all the information exposed, a good action plan to improve the overall rate of satisfaction would be:\n",
    "\n",
    "- **Discover what is happening with the Spanish customers.** Even though they are not rating extremely bad the services of the hotel, they finally set a bad rate to the overall satisfaction so there must be something happening that only affects the Spanish customers.\n",
    "\n",
    "- **Keep investing in cleaning.** As the cleaning is the most ponderated positively in the coefficients, keeping the hotel clean is a good way to raise the overall satisfaction. Moreover, we see a perfect correlation between cleaning and comfort which does mean that the comfort of the client can be improved directly by the cleaning service and followed up by the reception service.\n",
    "\n",
    "- **Keep the fantastic breakfast service.** For the analysis is not relevant because it is already outstanding being the greatest service offered by the hotel.\n",
    "\n",
    "- **Check if the business segment is penalized for some reason.** We see a huge difference between the business segment and the family segment where the first one tends to affect negatively to the overall rating.\n",
    "\n",
    "- **Revise the survey options.** The high NA values found in certain fields may indicate that some options do not represent the customers when answering the survey and trying to ensure the quality of the data could improve further analysis."
   ]
  }
 ],
 "metadata": {
  "kernelspec": {
   "display_name": "Python 3",
   "language": "python",
   "name": "python3"
  },
  "language_info": {
   "codemirror_mode": {
    "name": "ipython",
    "version": 3
   },
   "file_extension": ".py",
   "mimetype": "text/x-python",
   "name": "python",
   "nbconvert_exporter": "python",
   "pygments_lexer": "ipython3",
   "version": "3.8.5"
  }
 },
 "nbformat": 4,
 "nbformat_minor": 4
}
